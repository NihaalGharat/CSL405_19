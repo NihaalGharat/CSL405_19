{
  "cells": [
    {
      "cell_type": "markdown",
      "source": [
        "# **SE(AI&DS)-Nihaal_Gharat-19**"
      ],
      "metadata": {
        "id": "Ht8OC1ShwZ1J"
      },
      "id": "Ht8OC1ShwZ1J"
    },
    {
      "cell_type": "code",
      "execution_count": null,
      "id": "4b189e52-9bbd-4dc4-b791-f36fe4b244e8",
      "metadata": {
        "id": "4b189e52-9bbd-4dc4-b791-f36fe4b244e8",
        "outputId": "9d55e4dd-263e-4be1-f0c0-7c983d06cf4e"
      },
      "outputs": [
        {
          "name": "stdout",
          "output_type": "stream",
          "text": [
            "Collecting numpy\n",
            "  Downloading numpy-2.2.4-cp313-cp313-win_amd64.whl.metadata (60 kB)\n",
            "Downloading numpy-2.2.4-cp313-cp313-win_amd64.whl (12.6 MB)\n",
            "   ---------------------------------------- 0.0/12.6 MB ? eta -:--:--\n",
            "   ---- ----------------------------------- 1.6/12.6 MB 7.7 MB/s eta 0:00:02\n",
            "   -------- ------------------------------- 2.6/12.6 MB 6.4 MB/s eta 0:00:02\n",
            "   ------------- -------------------------- 4.2/12.6 MB 6.6 MB/s eta 0:00:02\n",
            "   --------------------- ------------------ 6.8/12.6 MB 8.1 MB/s eta 0:00:01\n",
            "   --------------------------- ------------ 8.7/12.6 MB 8.3 MB/s eta 0:00:01\n",
            "   ---------------------------------- ----- 10.7/12.6 MB 8.6 MB/s eta 0:00:01\n",
            "   ---------------------------------------- 12.6/12.6 MB 9.2 MB/s eta 0:00:00\n",
            "Installing collected packages: numpy\n",
            "Successfully installed numpy-2.2.4\n"
          ]
        }
      ],
      "source": [
        "!pip install numpy\n"
      ]
    },
    {
      "cell_type": "code",
      "execution_count": null,
      "id": "c14d31c1-46e1-4cd2-b4c7-7ceade3f85b8",
      "metadata": {
        "id": "c14d31c1-46e1-4cd2-b4c7-7ceade3f85b8"
      },
      "outputs": [],
      "source": [
        "import numpy as np\n",
        "\n"
      ]
    },
    {
      "cell_type": "code",
      "execution_count": null,
      "id": "fb40011c-52e0-4db9-a458-f8aad459dad3",
      "metadata": {
        "id": "fb40011c-52e0-4db9-a458-f8aad459dad3",
        "outputId": "68537e25-e03e-4743-8038-1de8be29cfbc"
      },
      "outputs": [
        {
          "name": "stdout",
          "output_type": "stream",
          "text": [
            "1. Array Creation Techniques\n"
          ]
        }
      ],
      "source": [
        "# 1. Array Creation Techniques\n",
        "print(\"1. Array Creation Techniques\")\n"
      ]
    },
    {
      "cell_type": "code",
      "execution_count": null,
      "id": "7d1ba591-c44f-4723-b782-297efeef497f",
      "metadata": {
        "id": "7d1ba591-c44f-4723-b782-297efeef497f",
        "outputId": "4fefd5c4-113a-40ad-f79e-1223d31194ee"
      },
      "outputs": [
        {
          "data": {
            "text/plain": [
              "array([1, 2, 3, 4, 5])"
            ]
          },
          "execution_count": 8,
          "metadata": {},
          "output_type": "execute_result"
        }
      ],
      "source": [
        "# a. Creating an array from a list\n",
        "array_from_list = np.array([1, 2, 3, 4, 5])\n",
        "array_from_list"
      ]
    },
    {
      "cell_type": "code",
      "execution_count": null,
      "id": "f88c95be-9df8-4dee-8d31-8baa33e10a9d",
      "metadata": {
        "id": "f88c95be-9df8-4dee-8d31-8baa33e10a9d",
        "outputId": "b3576e6d-f7af-444f-bb52-6fc327de3770"
      },
      "outputs": [
        {
          "data": {
            "text/plain": [
              "array([0, 2, 4, 6, 8])"
            ]
          },
          "execution_count": 9,
          "metadata": {},
          "output_type": "execute_result"
        }
      ],
      "source": [
        "# b. Using arange()\n",
        "array_arange = np.arange(0, 10, 2)\n",
        "array_arange"
      ]
    },
    {
      "cell_type": "code",
      "execution_count": null,
      "id": "1f1e6f16-6cf5-4b6e-b8f7-56eec26c7d0b",
      "metadata": {
        "id": "1f1e6f16-6cf5-4b6e-b8f7-56eec26c7d0b",
        "outputId": "c85a8450-7e81-4767-e0df-55fa6665c19a"
      },
      "outputs": [
        {
          "data": {
            "text/plain": [
              "array([ 0. ,  2.5,  5. ,  7.5, 10. ])"
            ]
          },
          "execution_count": 10,
          "metadata": {},
          "output_type": "execute_result"
        }
      ],
      "source": [
        "# c. Using linspace()\n",
        "array_linspace = np.linspace(0, 10, 5)  # Divides 0 to 10 into 5 points\n",
        "array_linspace"
      ]
    },
    {
      "cell_type": "code",
      "execution_count": null,
      "id": "b1464208-8a09-4611-98c6-6ed24656a7c5",
      "metadata": {
        "id": "b1464208-8a09-4611-98c6-6ed24656a7c5",
        "outputId": "50a16588-5355-42f1-b86c-48c91a161597"
      },
      "outputs": [
        {
          "data": {
            "text/plain": [
              "array([[0., 0., 0.],\n",
              "       [0., 0., 0.],\n",
              "       [0., 0., 0.]])"
            ]
          },
          "execution_count": 11,
          "metadata": {},
          "output_type": "execute_result"
        }
      ],
      "source": [
        "# d. Using zeros()\n",
        "array_zeros = np.zeros((3, 3))\n",
        "array_zeros\n"
      ]
    },
    {
      "cell_type": "code",
      "execution_count": null,
      "id": "530f8935-38b5-415b-9895-a7a12ff0f108",
      "metadata": {
        "id": "530f8935-38b5-415b-9895-a7a12ff0f108",
        "outputId": "b76d99f1-4fcf-4623-bf9e-a5141d06995c"
      },
      "outputs": [
        {
          "data": {
            "text/plain": [
              "array([[1., 1.],\n",
              "       [1., 1.]])"
            ]
          },
          "execution_count": 12,
          "metadata": {},
          "output_type": "execute_result"
        }
      ],
      "source": [
        "# e. Using ones()\n",
        "array_ones = np.ones((2, 2))\n",
        "array_ones\n"
      ]
    },
    {
      "cell_type": "code",
      "execution_count": null,
      "id": "4b0a1473-40cf-42c5-8808-3c8b2182614f",
      "metadata": {
        "id": "4b0a1473-40cf-42c5-8808-3c8b2182614f",
        "outputId": "71c822c0-d371-4d78-8410-410ba08c6fc4"
      },
      "outputs": [
        {
          "data": {
            "text/plain": [
              "array([[1., 0., 0.],\n",
              "       [0., 1., 0.],\n",
              "       [0., 0., 1.]])"
            ]
          },
          "execution_count": 13,
          "metadata": {},
          "output_type": "execute_result"
        }
      ],
      "source": [
        "# f. Using eye() for identity matrix\n",
        "array_eye = np.eye(3)\n",
        "array_eye\n",
        "\n"
      ]
    },
    {
      "cell_type": "code",
      "execution_count": null,
      "id": "ba281774-5341-426a-9e22-fe4568f88cce",
      "metadata": {
        "id": "ba281774-5341-426a-9e22-fe4568f88cce",
        "outputId": "2a2d4f8f-e6a6-4b1b-dad1-758d22b046c0"
      },
      "outputs": [
        {
          "data": {
            "text/plain": [
              "array([[0.80670554, 0.2016303 , 0.52412061],\n",
              "       [0.31423704, 0.02252393, 0.04923583],\n",
              "       [0.95164169, 0.07668495, 0.75261152]])"
            ]
          },
          "execution_count": 14,
          "metadata": {},
          "output_type": "execute_result"
        }
      ],
      "source": [
        "# g. Using random() for random values\n",
        "array_random = np.random.random((3, 3))\n",
        "array_random"
      ]
    },
    {
      "cell_type": "code",
      "execution_count": null,
      "id": "7a0be896-b6e8-4b6b-97a6-bb12235e1cc7",
      "metadata": {
        "id": "7a0be896-b6e8-4b6b-97a6-bb12235e1cc7",
        "outputId": "5fbf71c7-5dfc-46fe-fdea-dcfb6e7dd3f2"
      },
      "outputs": [
        {
          "name": "stdout",
          "output_type": "stream",
          "text": [
            "\n",
            "2. NumPy Methods\n"
          ]
        }
      ],
      "source": [
        "# 2. Different NumPy Methods\n",
        "print(\"\\n2. NumPy Methods\")"
      ]
    },
    {
      "cell_type": "code",
      "execution_count": null,
      "id": "4a1d3d29-bb0f-42e1-ac31-69007a51cfbc",
      "metadata": {
        "id": "4a1d3d29-bb0f-42e1-ac31-69007a51cfbc",
        "outputId": "668fc146-ea5f-4bf1-b753-3dda255a22eb"
      },
      "outputs": [
        {
          "data": {
            "text/plain": [
              "array([[1, 2, 3],\n",
              "       [4, 5, 6],\n",
              "       [7, 8, 9]])"
            ]
          },
          "execution_count": 16,
          "metadata": {},
          "output_type": "execute_result"
        }
      ],
      "source": [
        "# a. Reshaping an array\n",
        "reshaped_array = np.arange(1, 10).reshape(3, 3)\n",
        "reshaped_array\n"
      ]
    },
    {
      "cell_type": "code",
      "execution_count": null,
      "id": "6fe3d243-1059-4739-94a5-bb06e2bd3aca",
      "metadata": {
        "id": "6fe3d243-1059-4739-94a5-bb06e2bd3aca",
        "outputId": "c5ef799e-6d46-40d3-9b9d-ce4bae57d3db"
      },
      "outputs": [
        {
          "data": {
            "text/plain": [
              "array([[1, 4, 7],\n",
              "       [2, 5, 8],\n",
              "       [3, 6, 9]])"
            ]
          },
          "execution_count": 17,
          "metadata": {},
          "output_type": "execute_result"
        }
      ],
      "source": [
        "# b. Transposing an array\n",
        "transposed_array = reshaped_array.T\n",
        "transposed_array"
      ]
    },
    {
      "cell_type": "code",
      "execution_count": null,
      "id": "7884cbc1-4ca3-4f0f-ac94-314be5b59341",
      "metadata": {
        "id": "7884cbc1-4ca3-4f0f-ac94-314be5b59341",
        "outputId": "ac711927-f5d8-43de-84a1-e33ec580b54c"
      },
      "outputs": [
        {
          "data": {
            "text/plain": [
              "array([1.        , 1.41421356, 1.73205081])"
            ]
          },
          "execution_count": 18,
          "metadata": {},
          "output_type": "execute_result"
        }
      ],
      "source": [
        "# c. Mathematical operations\n",
        "array_math = np.array([1, 2, 3])\n",
        "array_math + 2\n",
        "array_math * 3\n",
        "np.sqrt(array_math)\n"
      ]
    },
    {
      "cell_type": "code",
      "execution_count": null,
      "id": "103b9e66-6a26-4439-9c6e-75e48c114266",
      "metadata": {
        "id": "103b9e66-6a26-4439-9c6e-75e48c114266",
        "outputId": "fbe9f3b5-5535-4482-9250-8a4927a2d7c8"
      },
      "outputs": [
        {
          "data": {
            "text/plain": [
              "np.int64(1)"
            ]
          },
          "execution_count": 19,
          "metadata": {},
          "output_type": "execute_result"
        }
      ],
      "source": [
        "# d. Aggregation methods\n",
        "np.sum(array_math)\n",
        "np.mean(array_math)\n",
        "np.max(array_math)\n",
        "np.min(array_math)\n"
      ]
    },
    {
      "cell_type": "code",
      "execution_count": null,
      "id": "ac7c1e32-f906-4d42-89f6-d8bff421a254",
      "metadata": {
        "id": "ac7c1e32-f906-4d42-89f6-d8bff421a254",
        "outputId": "d2588266-2f5a-4f8c-da4c-94fd9aeb351a"
      },
      "outputs": [
        {
          "data": {
            "text/plain": [
              "array([1, 2, 3, 4, 5, 6])"
            ]
          },
          "execution_count": 20,
          "metadata": {},
          "output_type": "execute_result"
        }
      ],
      "source": [
        "# e. Concatenation of arrays\n",
        "array_a = np.array([1, 2, 3])\n",
        "array_b = np.array([4, 5, 6])\n",
        "concat_array = np.concatenate((array_a, array_b))\n",
        "concat_array\n"
      ]
    },
    {
      "cell_type": "code",
      "execution_count": null,
      "id": "e5103dac-43f0-4b5f-8f09-b0ad155d521c",
      "metadata": {
        "id": "e5103dac-43f0-4b5f-8f09-b0ad155d521c"
      },
      "outputs": [],
      "source": []
    }
  ],
  "metadata": {
    "kernelspec": {
      "display_name": "Python 3 (ipykernel)",
      "language": "python",
      "name": "python3"
    },
    "language_info": {
      "codemirror_mode": {
        "name": "ipython",
        "version": 3
      },
      "file_extension": ".py",
      "mimetype": "text/x-python",
      "name": "python",
      "nbconvert_exporter": "python",
      "pygments_lexer": "ipython3",
      "version": "3.13.2"
    },
    "colab": {
      "provenance": []
    }
  },
  "nbformat": 4,
  "nbformat_minor": 5
}
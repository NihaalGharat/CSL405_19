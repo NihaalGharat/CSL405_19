{
  "nbformat": 4,
  "nbformat_minor": 0,
  "metadata": {
    "colab": {
      "provenance": []
    },
    "kernelspec": {
      "name": "python3",
      "display_name": "Python 3"
    },
    "language_info": {
      "name": "python"
    }
  },
  "cells": [
    {
      "cell_type": "markdown",
      "source": [
        "# **SE(AI&DS)-Nihaal Gharat_19**"
      ],
      "metadata": {
        "id": "IrhTFKPyYJpJ"
      }
    },
    {
      "cell_type": "code",
      "execution_count": 5,
      "metadata": {
        "colab": {
          "base_uri": "https://localhost:8080/",
          "height": 0
        },
        "id": "TA1mn7BJXsIZ",
        "outputId": "8c878dc6-f435-4b57-f863-e01dc0f0cfa7"
      },
      "outputs": [
        {
          "output_type": "stream",
          "name": "stdout",
          "text": [
            "Files in the current directory:\n",
            "file.txt\n"
          ]
        }
      ],
      "source": [
        "import os\n",
        "#with open(\"file.txt\", \"w\") as file:\n",
        "  #file.write(\"File Opened\")\n",
        "files = [f for f in os.listdir('.') if os.path.isfile(f)]\n",
        "\n",
        "print(\"Files in the current directory:\")\n",
        "for file in files:\n",
        "    print(file)\n"
      ]
    },
    {
      "cell_type": "code",
      "source": [
        "from pathlib import Path\n",
        "\n",
        "files = [f.name for f in Path('.').iterdir() if f.is_file()]\n",
        "\n",
        "print(\"Files in the current directory:\")\n",
        "for file in files:\n",
        "    print(file)"
      ],
      "metadata": {
        "colab": {
          "base_uri": "https://localhost:8080/",
          "height": 0
        },
        "id": "LdvUc2dMcCxy",
        "outputId": "b56bb509-88be-4b44-ceb1-53bb50d6d5cd"
      },
      "execution_count": 8,
      "outputs": [
        {
          "output_type": "stream",
          "name": "stdout",
          "text": [
            "Files in the current directory:\n",
            "file.txt\n"
          ]
        }
      ]
    }
  ]
}
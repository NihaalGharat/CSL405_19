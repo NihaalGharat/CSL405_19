{
  "nbformat": 4,
  "nbformat_minor": 0,
  "metadata": {
    "colab": {
      "provenance": []
    },
    "kernelspec": {
      "name": "python3",
      "display_name": "Python 3"
    },
    "language_info": {
      "name": "python"
    }
  },
  "cells": [
    {
      "cell_type": "markdown",
      "source": [
        "# **SE(AI&DS)-Nihaal Gharat_19**"
      ],
      "metadata": {
        "id": "2HEZs1eYYvE8"
      }
    },
    {
      "cell_type": "code",
      "source": [
        "class StackDepth:\n",
        "    def maximumDepth(self, stringInput: str) -> int:\n",
        "        current_depth = 0  # current depth of parentheses\n",
        "        max_depth = 0  # stores the maximum depth encountered\n",
        "\n",
        "        for char in stringInput:\n",
        "            if char == '(':  # opening bracket, increase depth\n",
        "                current_depth += 1\n",
        "                max_depth = max(max_depth, current_depth)  # update maximum depth\n",
        "            elif char == ')':  # closing bracket, decrease depth\n",
        "                current_depth -= 1\n",
        "\n",
        "        return max_depth\n",
        "\n",
        "# Taking input from the user\n",
        "user_input = input(\"Please enter a string with parentheses: \")\n",
        "\n",
        "stack_depth = StackDepth()\n",
        "print(\"The maximum depth is:\", stack_depth.maximumDepth(user_input))\n"
      ],
      "metadata": {
        "colab": {
          "base_uri": "https://localhost:8080/",
          "height": 0
        },
        "id": "uDIm7Cu9Zs8r",
        "outputId": "50ff7be0-cb33-4f9f-facb-159575d232dd"
      },
      "execution_count": 11,
      "outputs": [
        {
          "output_type": "stream",
          "name": "stdout",
          "text": [
            "Please enter a string with parentheses: (((())))  ((())) () (())\n",
            "The maximum depth is: 4\n"
          ]
        }
      ]
    }
  ]
}

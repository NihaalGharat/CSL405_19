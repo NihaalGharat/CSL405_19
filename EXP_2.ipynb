{
  "nbformat": 4,
  "nbformat_minor": 0,
  "metadata": {
    "colab": {
      "provenance": [],
      "include_colab_link": true
    },
    "kernelspec": {
      "name": "python3",
      "display_name": "Python 3"
    },
    "language_info": {
      "name": "python"
    }
  },
  "cells": [
    {
      "cell_type": "markdown",
      "metadata": {
        "id": "view-in-github",
        "colab_type": "text"
      },
      "source": [
        "<a href=\"https://colab.research.google.com/github/NihaalGharat/CSL405_19/blob/main/EXP_2.ipynb\" target=\"_parent\"><img src=\"https://colab.research.google.com/assets/colab-badge.svg\" alt=\"Open In Colab\"/></a>"
      ]
    },
    {
      "cell_type": "code",
      "execution_count": 3,
      "metadata": {
        "colab": {
          "base_uri": "https://localhost:8080/"
        },
        "id": "aLW1fLLuRir_",
        "outputId": "3967edab-11fa-411d-def3-79dbcd90a0a1"
      },
      "outputs": [
        {
          "output_type": "stream",
          "name": "stdout",
          "text": [
            "Developer is a full stack developer\n",
            "Developer\tTrue\tTrue\n"
          ]
        }
      ],
      "source": [
        "\n",
        "\n",
        "class Employee:\n",
        "    def __init__ (\n",
        "            self,\n",
        "            designation : str = 'Developer',\n",
        "            frontend : bool = True,\n",
        "            backend : bool = True\n",
        "    ):\n",
        "        self.designation = designation\n",
        "        self.frontend = frontend\n",
        "        self.backend = backend\n",
        "\n",
        "    def __repr__ (self):\n",
        "        return '{}\\t{}\\t{}'.format (self.designation, self.frontend, self.backend)\n",
        "\n",
        "    ### Write the your method over here.\n",
        "    def verifier (self):\n",
        "        if self.frontend and self.backend:\n",
        "           return f'{self.designation} is a full stack developer'\n",
        "        elif self.frontend:\n",
        "          return f'{self.designation} is a frontend developer'\n",
        "        elif self.backend:\n",
        "          return f'{self.designation} is a backend developer'\n",
        "        else:\n",
        "          return  'nothing'\n",
        "emp=Employee()\n",
        "\n",
        "if __name__ == '__main__':\n",
        "    firstEmployee = Employee ()\n",
        "    print(firstEmployee.verifier())\n",
        "    print(emp)\n",
        "    # Call the method here to display output.\n"
      ]
    }
  ]
}
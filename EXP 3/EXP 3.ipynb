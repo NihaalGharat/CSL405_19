{
  "metadata": {
    "kernelspec": {
      "name": "python",
      "display_name": "Python (Pyodide)",
      "language": "python"
    },
    "language_info": {
      "codemirror_mode": {
        "name": "python",
        "version": 3
      },
      "file_extension": ".py",
      "mimetype": "text/x-python",
      "name": "python",
      "nbconvert_exporter": "python",
      "pygments_lexer": "ipython3",
      "version": "3.8"
    }
  },
  "nbformat_minor": 5,
  "nbformat": 4,
  "cells": [
    {
      "id": "ebb22763-ad17-4eee-baf2-7f2501f604b3",
      "cell_type": "markdown",
      "source": "### AI & DS - CSL405/Nihaal Gharat SE-19",
      "metadata": {}
    },
    {
      "id": "86092322-7064-4ded-84d9-d90cbc185aac",
      "cell_type": "code",
      "source": "if __name__ == '__main__':\n    with open('./file.txt', 'r') as file:\n        lines = file.readlines()\n        numberOfLines = len(lines)\n        numberOfWords = sum(len(line.split()) for line in lines)\n        \n        # Count number of characters.\n        numberOfCharacters = sum(len(line) for line in lines)\n        \n    print(f\"Lines: {numberOfLines}\")\n    print(f\"Words: {numberOfWords}\")\n    print(f\"Characters: {numberOfCharacters}\")\n\n",
      "metadata": {
        "trusted": true
      },
      "outputs": [
        {
          "name": "stdout",
          "output_type": "stream",
          "text": "Lines: 3\nWords: 15\nCharacters: 78\n"
        }
      ],
      "execution_count": 1
    },
    {
      "id": "0d2976f0-9e05-473a-9cda-898e54dc563d",
      "cell_type": "code",
      "source": "",
      "metadata": {
        "trusted": true
      },
      "outputs": [],
      "execution_count": null
    }
  ]
}
